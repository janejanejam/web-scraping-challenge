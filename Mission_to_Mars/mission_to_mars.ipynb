{
 "cells": [
  {
   "cell_type": "code",
   "execution_count": 1,
   "metadata": {},
   "outputs": [],
   "source": [
    "# Import libraries and dependancies\n",
    "from splinter import Browser\n",
    "from bs4 import BeautifulSoup as bs\n",
    "import pandas as pd\n",
    "import requests\n",
    "import time"
   ]
  },
  {
   "cell_type": "code",
   "execution_count": 2,
   "metadata": {},
   "outputs": [],
   "source": [
    "def init_browser():\n",
    "    executable_path = {\"executable_path\": \"/usr/local/bin/chromedriver\"}\n",
    "    return Browser(\"chrome\", **executable_path, headless=False)"
   ]
  },
  {
   "cell_type": "markdown",
   "metadata": {},
   "source": [
    "## NASA Mars News"
   ]
  },
  {
   "cell_type": "code",
   "execution_count": 3,
   "metadata": {},
   "outputs": [],
   "source": [
    "def news_scrape():\n",
    "    # Connect function init_browser\n",
    "    browser = init_browser()\n",
    "    \n",
    "    # Set URL to scrape\n",
    "    news_url = \"https://mars.nasa.gov/news/\"\n",
    "    browser.visit(news_url)\n",
    "    \n",
    "    # Add time delay\n",
    "    time.sleep(3)\n",
    "\n",
    "    # Scrape page into Soup\n",
    "    news_html = browser.html\n",
    "    news_soup = bs(news_html, \"html5lib\")\n",
    "\n",
    "    # Find latest news title and paragraph\n",
    "    news_article = news_soup.find_all(\"div\", class_=\"list_text\")[0]\n",
    "\n",
    "    news_title = news_article.find(\"div\", class_=\"content_title\").text\n",
    "\n",
    "    news_text = news_article.find(\"div\", class_ =\"article_teaser_body\").text\n",
    "\n",
    "    # Close the browser after scraping\n",
    "    browser.quit()\n",
    "    \n",
    "    # Return dictionary of data for database\n",
    "    return {\"news_title\": news_title, \"news_text\": news_text}"
   ]
  },
  {
   "cell_type": "code",
   "execution_count": 4,
   "metadata": {},
   "outputs": [
    {
     "data": {
      "text/plain": [
       "{'news_title': \"How NASA's Mars Helicopter Will Reach the Red Planet's Surface\",\n",
       " 'news_text': 'The small craft will seek to prove that powered, controlled flight is possible on another planet. But just getting it onto the surface of Mars will take a whole lot of ingenuity.'}"
      ]
     },
     "execution_count": 4,
     "metadata": {},
     "output_type": "execute_result"
    }
   ],
   "source": [
    "news_scrape()"
   ]
  },
  {
   "cell_type": "markdown",
   "metadata": {},
   "source": [
    "## JPL Mars Space Image"
   ]
  },
  {
   "cell_type": "code",
   "execution_count": 5,
   "metadata": {},
   "outputs": [],
   "source": [
    "def image_scrape():\n",
    "    # Connect function init_browser\n",
    "    browser = init_browser()\n",
    "    \n",
    "    # Set URL to scrape\n",
    "    image_search = \"https://www.jpl.nasa.gov/spaceimages/?search=&category=Mars\"\n",
    "    browser.visit(image_search)\n",
    "    \n",
    "    # Add time delay\n",
    "    time.sleep(3)\n",
    "\n",
    "    # Click on \"FULL IMAGE\"\n",
    "    browser.click_link_by_partial_text(\"FULL IMAGE\")\n",
    "\n",
    "    # Click on \"more info\"\n",
    "    browser.click_link_by_partial_text(\"more info\")\n",
    "\n",
    "    # Scrape page into Soup\n",
    "    image_html = browser.html\n",
    "    image_soup = bs(image_html, \"html5lib\")\n",
    "\n",
    "    # Find featured image url\n",
    "    image_url = image_soup.find(\"figure\", class_=\"lede\").find(\"a\")[\"href\"]\n",
    "    image_full_url = \"https://www.jpl.nasa.gov\" + image_url\n",
    "\n",
    "    # Close the browser after scraping\n",
    "    browser.quit()\n",
    "    \n",
    "    # Return dictionary of data for database\n",
    "    return {\"image_url\": image_full_url}"
   ]
  },
  {
   "cell_type": "code",
   "execution_count": 6,
   "metadata": {},
   "outputs": [
    {
     "name": "stderr",
     "output_type": "stream",
     "text": [
      "/Applications/anaconda3/lib/python3.7/site-packages/splinter/driver/webdriver/__init__.py:528: FutureWarning: browser.find_link_by_partial_text is deprecated. Use browser.links.find_by_partial_text instead.\n",
      "  FutureWarning,\n"
     ]
    },
    {
     "data": {
      "text/plain": [
       "{'image_url': 'https://www.jpl.nasa.gov/spaceimages/images/largesize/PIA16884_hires.jpg'}"
      ]
     },
     "execution_count": 6,
     "metadata": {},
     "output_type": "execute_result"
    }
   ],
   "source": [
    "image_scrape()"
   ]
  },
  {
   "cell_type": "markdown",
   "metadata": {},
   "source": [
    "## Mars Weather"
   ]
  },
  {
   "cell_type": "code",
   "execution_count": 7,
   "metadata": {},
   "outputs": [],
   "source": [
    "def weather_scrape():\n",
    "    # Connect function init_browser\n",
    "    browser = init_browser()\n",
    "    \n",
    "    # Set URL to scrape\n",
    "    weather_url = \"https://twitter.com/marswxreport?lang=en\"\n",
    "    browser.visit(weather_url)\n",
    "\n",
    "    # Add time delay\n",
    "    time.sleep(3)\n",
    "\n",
    "    # Scrape page into Soup\n",
    "    weather_html = browser.html\n",
    "    weather_soup = bs(weather_html, \"html5lib\")\n",
    "\n",
    "    # Find latest news title and paragraph\n",
    "    weather_art = weather_soup.find_all(\"article\", role=\"article\")[0]\n",
    "    weather_text = weather_art.find_all(\"span\")[4].text\n",
    "\n",
    "    # Close the browser after scraping\n",
    "    browser.quit()\n",
    "    \n",
    "    # Return dictionary of data for database\n",
    "    return {\"weather_text\": weather_text}"
   ]
  },
  {
   "cell_type": "code",
   "execution_count": 8,
   "metadata": {},
   "outputs": [
    {
     "data": {
      "text/plain": [
       "{'weather_text': 'InSight sol 561 (2020-06-25) low -89.7ºC (-129.5ºF) high -2.9ºC (26.8ºF)\\nwinds from the W at 5.7 m/s (12.8 mph) gusting to 17.8 m/s (39.8 mph)\\npressure at 7.60 hPa'}"
      ]
     },
     "execution_count": 8,
     "metadata": {},
     "output_type": "execute_result"
    }
   ],
   "source": [
    "weather_scrape()"
   ]
  },
  {
   "cell_type": "markdown",
   "metadata": {},
   "source": [
    "## Mars Facts"
   ]
  },
  {
   "cell_type": "code",
   "execution_count": 27,
   "metadata": {},
   "outputs": [],
   "source": [
    "def mars_facts():\n",
    "    # Set URL variable\n",
    "    facts_url = \"https://space-facts.com/mars/\"\n",
    "    \n",
    "    # Use Pandas to read html\n",
    "    table = pd.read_html(facts_url)\n",
    "    \n",
    "    # Set variable for table\n",
    "    fact_table = table[0]\n",
    "    \n",
    "    # Set column names\n",
    "    fact_table.columns = ['Description', 'Value']\n",
    "    \n",
    "    # Set index\n",
    "    fact_table = fact_table.set_index('Description')\n",
    "    \n",
    "    # Convert table back to html\n",
    "    fact_table = fact_table.to_html\n",
    "    \n",
    "    return fact_table\n",
    "\n",
    "# df.rename(columns=df.iloc[0]).drop(df.index[0])\n"
   ]
  },
  {
   "cell_type": "code",
   "execution_count": 28,
   "metadata": {},
   "outputs": [
    {
     "data": {
      "text/plain": [
       "<bound method DataFrame.to_html of                                            6,792 km\n",
       "Description                                        \n",
       "Equatorial Diameter:                       6,792 km\n",
       "Polar Diameter:                            6,752 km\n",
       "Mass:                 6.39 × 10^23 kg (0.11 Earths)\n",
       "Moons:                          2 (Phobos & Deimos)\n",
       "Orbit Distance:            227,943,824 km (1.38 AU)\n",
       "Orbit Period:                  687 days (1.9 years)\n",
       "Surface Temperature:                   -87 to -5 °C\n",
       "First Record:                     2nd millennium BC\n",
       "Recorded By:                   Egyptian astronomers>"
      ]
     },
     "execution_count": 28,
     "metadata": {},
     "output_type": "execute_result"
    }
   ],
   "source": [
    "mars_facts()"
   ]
  },
  {
   "cell_type": "markdown",
   "metadata": {},
   "source": [
    "## Mars Hemispheres"
   ]
  },
  {
   "cell_type": "code",
   "execution_count": 7,
   "metadata": {},
   "outputs": [],
   "source": [
    "def hemi_scrape():\n",
    "    # Connect function init_browser\n",
    "    browser = init_browser()\n",
    "    \n",
    "    # Set URL to scrape\n",
    "    hemi_url = \"https://astrogeology.usgs.gov/search/results?q=hemisphere+enhanced&k1=target&v1=Mars\"\n",
    "    browser.visit(hemi_url)\n",
    "\n",
    "    # Scrape page into Soup\n",
    "    hemi_html = browser.html\n",
    "    hemi_soup = bs(hemi_html, \"html5lib\")\n",
    "    \n",
    "    # Find all items with image \n",
    "    items = hemi_soup.find_all(\"div\", class_='item')\n",
    "    \n",
    "    # Create empty list to append with results from loop\n",
    "    hemi_list = []\n",
    "\n",
    "    # Set variable for main url\n",
    "    main_url = 'https://astrogeology.usgs.gov'\n",
    "\n",
    "    # Start loop through items\n",
    "    for item in items:\n",
    "        \n",
    "        # Find hemi title\n",
    "        hemi_title = item.find(\"h3\").text\n",
    "        \n",
    "        # Find url to hemi page\n",
    "        hi_url = item.find(\"a\")[\"href\"]\n",
    "        \n",
    "        # Visit url to scrape\n",
    "        browser.visit(main_url + hi_url)\n",
    "        \n",
    "        # Scrape page into Soup\n",
    "        hi_html = browser.html\n",
    "        hi_soup = bs(hi_html, \"html5lib\")\n",
    "        \n",
    "         # Find high res image url\n",
    "        hemi_image = hi_soup.find(\"div\", class_=\"wide-image-wrapper\").find(\"img\", class_='wide-image')[\"src\"]\n",
    "        \n",
    "        # Append list with results as dictionary\n",
    "        hemi_list.append({\"title\": hemi_title, \"hemi_image\": main_url + hemi_image})\n",
    "    \n",
    "    # Close the browser after scraping\n",
    "    browser.quit()\n",
    "    \n",
    "    # Return dictionary of data for database\n",
    "    return hemi_list"
   ]
  },
  {
   "cell_type": "code",
   "execution_count": 8,
   "metadata": {},
   "outputs": [
    {
     "data": {
      "text/plain": [
       "[{'title': 'Cerberus Hemisphere Enhanced',\n",
       "  'hemi_image': 'https://astrogeology.usgs.gov/cache/images/f5e372a36edfa389625da6d0cc25d905_cerberus_enhanced.tif_full.jpg'},\n",
       " {'title': 'Schiaparelli Hemisphere Enhanced',\n",
       "  'hemi_image': 'https://astrogeology.usgs.gov/cache/images/3778f7b43bbbc89d6e3cfabb3613ba93_schiaparelli_enhanced.tif_full.jpg'},\n",
       " {'title': 'Syrtis Major Hemisphere Enhanced',\n",
       "  'hemi_image': 'https://astrogeology.usgs.gov/cache/images/555e6403a6ddd7ba16ddb0e471cadcf7_syrtis_major_enhanced.tif_full.jpg'},\n",
       " {'title': 'Valles Marineris Hemisphere Enhanced',\n",
       "  'hemi_image': 'https://astrogeology.usgs.gov/cache/images/b3c7c6c9138f57b4756be9b9c43e3a48_valles_marineris_enhanced.tif_full.jpg'}]"
      ]
     },
     "execution_count": 8,
     "metadata": {},
     "output_type": "execute_result"
    }
   ],
   "source": [
    "hemi_scrape()"
   ]
  },
  {
   "cell_type": "code",
   "execution_count": null,
   "metadata": {},
   "outputs": [],
   "source": []
  }
 ],
 "metadata": {
  "kernelspec": {
   "display_name": "Python 3",
   "language": "python",
   "name": "python3"
  },
  "language_info": {
   "codemirror_mode": {
    "name": "ipython",
    "version": 3
   },
   "file_extension": ".py",
   "mimetype": "text/x-python",
   "name": "python",
   "nbconvert_exporter": "python",
   "pygments_lexer": "ipython3",
   "version": "3.7.7"
  }
 },
 "nbformat": 4,
 "nbformat_minor": 4
}
